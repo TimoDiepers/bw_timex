{
 "cells": [
  {
   "cell_type": "markdown",
   "id": "bee706e3",
   "metadata": {},
   "source": [
    "# Dynamic characterization\n",
    "This notebook is meant to explain the options for dynamic characterization in `timex_lca`.\n",
    "In this example, there is a very simple database containing only one node with a pulse emission of CH4, occuring at a 10 year delay.\n",
    "\n",
    "Further down, there is an example with multiple greenhouse gases.\n"
   ]
  },
  {
   "cell_type": "code",
   "execution_count": 1,
   "id": "5d3622ff",
   "metadata": {},
   "outputs": [
    {
     "name": "stderr",
     "output_type": "stream",
     "text": [
      "100%|██████████| 1/1 [00:00<00:00, 12052.60it/s]\n"
     ]
    },
    {
     "name": "stdout",
     "output_type": "stream",
     "text": [
      "Vacuuming database \n",
      "Not able to determine geocollections for all datasets. This database is not ready for regionalization.\n"
     ]
    },
    {
     "name": "stderr",
     "output_type": "stream",
     "text": [
      "100%|██████████| 1/1 [00:00<00:00, 19239.93it/s]\n"
     ]
    },
    {
     "name": "stdout",
     "output_type": "stream",
     "text": [
      "Vacuuming database \n",
      "Not able to determine geocollections for all datasets. This database is not ready for regionalization.\n"
     ]
    },
    {
     "name": "stderr",
     "output_type": "stream",
     "text": [
      "100%|██████████| 1/1 [00:00<00:00, 25115.59it/s]\n"
     ]
    },
    {
     "name": "stdout",
     "output_type": "stream",
     "text": [
      "Vacuuming database \n",
      "Not able to determine geocollections for all datasets. This database is not ready for regionalization.\n"
     ]
    },
    {
     "name": "stderr",
     "output_type": "stream",
     "text": [
      "100%|██████████| 1/1 [00:00<00:00, 18893.26it/s]"
     ]
    },
    {
     "name": "stdout",
     "output_type": "stream",
     "text": [
      "Vacuuming database \n"
     ]
    },
    {
     "name": "stderr",
     "output_type": "stream",
     "text": [
      "\n"
     ]
    }
   ],
   "source": [
    "import bw2data as bd\n",
    "import numpy as np\n",
    "from bw_temporalis import TemporalDistribution\n",
    "\n",
    "project_name = \"timex_minimal_example\"\n",
    "if project_name in bd.projects:\n",
    "    bd.projects.delete_project(project_name)  # making sure to start from scratch\n",
    "    bd.projects.purge_deleted_directories()\n",
    "\n",
    "bd.projects.set_current(project_name)\n",
    "\n",
    "bd.Database(\"biosphere\").write(\n",
    "    {\n",
    "        (\"biosphere\", \"X\"): {\n",
    "            \"type\": \"emission\",\n",
    "            \"name\": \"X\",\n",
    "        },\n",
    "    }\n",
    ")\n",
    "\n",
    "bd.Database(\"background_t0\").write(  # dummy system containing 1 activity\n",
    "    {\n",
    "        (\"background_t0\", \"B\"): {\n",
    "            \"name\": \"B\",\n",
    "            \"location\": \"somewhere\",\n",
    "            \"reference product\": \"B\",\n",
    "            \"exchanges\": [\n",
    "                {\n",
    "                    \"amount\": 1,\n",
    "                    \"type\": \"production\",\n",
    "                    \"input\": (\"background_t0\", \"B\"),\n",
    "                },\n",
    "                {\n",
    "                    \"amount\": 5,\n",
    "                    \"type\": \"biosphere\",\n",
    "                    \"input\": (\"biosphere\", \"X\"),\n",
    "                    \"temporal_distribution\": TemporalDistribution(\n",
    "                        date=np.array([0, 1], dtype=\"timedelta64[Y]\"),\n",
    "                        amount=np.array([0.6, 0.4]),\n",
    "                    ),  # emission of CH4 10 years after execution of process A\n",
    "                },\n",
    "            ],\n",
    "        },\n",
    "    }\n",
    ")\n",
    "\n",
    "bd.Database(\"background_t1\").write(  # dummy system containing 1 activity\n",
    "    {\n",
    "        (\"background_t1\", \"B\"): {\n",
    "            \"name\": \"B\",\n",
    "            \"location\": \"somewhere\",\n",
    "            \"reference product\": \"B\",\n",
    "            \"exchanges\": [\n",
    "                {\n",
    "                    \"amount\": 1,\n",
    "                    \"type\": \"production\",\n",
    "                    \"input\": (\"background_t1\", \"B\"),\n",
    "                },\n",
    "                {\n",
    "                    \"amount\": 3,\n",
    "                    \"type\": \"biosphere\",\n",
    "                    \"input\": (\"biosphere\", \"X\"),\n",
    "                    \"temporal_distribution\": TemporalDistribution(\n",
    "                        date=np.array([0, 1], dtype=\"timedelta64[Y]\"),\n",
    "                        amount=np.array([0.6, 0.4]),\n",
    "                    ),  # emission of CH4 10 years after execution of process A\n",
    "                },\n",
    "            ],\n",
    "        },\n",
    "    }\n",
    ")\n",
    "\n",
    "bd.Database(\"foreground\").write(  # dummy system containing 1 activity\n",
    "    {\n",
    "        (\"foreground\", \"A\"): {\n",
    "            \"name\": \"A\",\n",
    "            \"location\": \"somewhere\",\n",
    "            \"reference product\": \"A\",\n",
    "            \"exchanges\": [\n",
    "                {\n",
    "                    \"amount\": 1,\n",
    "                    \"type\": \"production\",\n",
    "                    \"input\": (\"foreground\", \"A\"),\n",
    "                },\n",
    "                {\n",
    "                    \"amount\": 2,\n",
    "                    \"type\": \"technosphere\",\n",
    "                    \"input\": (\"background_t0\", \"B\"),\n",
    "                    \"temporal_distribution\": TemporalDistribution(\n",
    "                        date=np.array([0, 1], dtype=\"timedelta64[Y]\"),\n",
    "                        amount=np.array([0.2, 0.8]),\n",
    "                    ),\n",
    "                },\n",
    "            ],\n",
    "        },\n",
    "    }\n",
    ")\n",
    "\n",
    "bd.Method((\"some\", \"method\")).write(\n",
    "    [\n",
    "        ((\"biosphere\", \"X\"), 1),  # GWP100 from IPCC AR6\n",
    "    ]\n",
    ")"
   ]
  },
  {
   "cell_type": "markdown",
   "id": "7dcc428a",
   "metadata": {},
   "source": [
    "We select the demand and the method and calculate a LCA with `timex_lca`\n"
   ]
  },
  {
   "cell_type": "code",
   "execution_count": 2,
   "id": "8d9405d9",
   "metadata": {},
   "outputs": [],
   "source": [
    "demand = {(\"foreground\", \"A\"): 1}\n",
    "gwp = (\"some\", \"method\")"
   ]
  },
  {
   "cell_type": "code",
   "execution_count": 3,
   "id": "b50ae100",
   "metadata": {},
   "outputs": [],
   "source": [
    "from datetime import datetime\n",
    "\n",
    "database_date_dict = {\n",
    "    \"background_t0\": datetime.strptime(\"2024\", \"%Y\"),\n",
    "    \"background_t1\": datetime.strptime(\"2025\", \"%Y\"),\n",
    "    \"foreground\": \"dynamic\",  # flag databases that should be temporally distributed with \"dynamic\"\n",
    "}"
   ]
  },
  {
   "cell_type": "code",
   "execution_count": 4,
   "id": "71bba776",
   "metadata": {},
   "outputs": [],
   "source": [
    "from timex_lca import TimexLCA\n",
    "\n",
    "tlca = TimexLCA(demand, gwp, database_date_dict)"
   ]
  },
  {
   "cell_type": "code",
   "execution_count": 5,
   "id": "c40754e8",
   "metadata": {},
   "outputs": [
    {
     "name": "stdout",
     "output_type": "stream",
     "text": [
      "Calculation count: 1\n"
     ]
    },
    {
     "name": "stderr",
     "output_type": "stream",
     "text": [
      "/Users/timodiepers/Documents/Coding/timex/timex_lca/timex_lca.py:182: UserWarning: No edge filter function provided. Skipping all edges within background databases.\n",
      "  warnings.warn(\n"
     ]
    },
    {
     "data": {
      "text/html": [
       "<div>\n",
       "<style scoped>\n",
       "    .dataframe tbody tr th:only-of-type {\n",
       "        vertical-align: middle;\n",
       "    }\n",
       "\n",
       "    .dataframe tbody tr th {\n",
       "        vertical-align: top;\n",
       "    }\n",
       "\n",
       "    .dataframe thead th {\n",
       "        text-align: right;\n",
       "    }\n",
       "</style>\n",
       "<table border=\"1\" class=\"dataframe\">\n",
       "  <thead>\n",
       "    <tr style=\"text-align: right;\">\n",
       "      <th></th>\n",
       "      <th>date_producer</th>\n",
       "      <th>producer_name</th>\n",
       "      <th>date_consumer</th>\n",
       "      <th>consumer_name</th>\n",
       "      <th>amount</th>\n",
       "      <th>interpolation_weights</th>\n",
       "    </tr>\n",
       "  </thead>\n",
       "  <tbody>\n",
       "    <tr>\n",
       "      <th>0</th>\n",
       "      <td>2024-01-01</td>\n",
       "      <td>B</td>\n",
       "      <td>2024-01-01</td>\n",
       "      <td>A</td>\n",
       "      <td>0.4</td>\n",
       "      <td>{'background_t0': 1}</td>\n",
       "    </tr>\n",
       "    <tr>\n",
       "      <th>1</th>\n",
       "      <td>2024-01-01</td>\n",
       "      <td>A</td>\n",
       "      <td>2024-01-01</td>\n",
       "      <td>-1</td>\n",
       "      <td>1.0</td>\n",
       "      <td>None</td>\n",
       "    </tr>\n",
       "    <tr>\n",
       "      <th>2</th>\n",
       "      <td>2025-01-01</td>\n",
       "      <td>B</td>\n",
       "      <td>2024-01-01</td>\n",
       "      <td>A</td>\n",
       "      <td>1.6</td>\n",
       "      <td>{'background_t1': 1}</td>\n",
       "    </tr>\n",
       "  </tbody>\n",
       "</table>\n",
       "</div>"
      ],
      "text/plain": [
       "  date_producer producer_name date_consumer consumer_name amount  \\\n",
       "0    2024-01-01             B    2024-01-01             A    0.4   \n",
       "1    2024-01-01             A    2024-01-01            -1    1.0   \n",
       "2    2025-01-01             B    2024-01-01             A    1.6   \n",
       "\n",
       "  interpolation_weights  \n",
       "0  {'background_t0': 1}  \n",
       "1                  None  \n",
       "2  {'background_t1': 1}  "
      ]
     },
     "execution_count": 5,
     "metadata": {},
     "output_type": "execute_result"
    }
   ],
   "source": [
    "tlca.build_timeline()"
   ]
  },
  {
   "cell_type": "code",
   "execution_count": 6,
   "id": "1c833eff",
   "metadata": {},
   "outputs": [],
   "source": [
    "tlca.lci()"
   ]
  },
  {
   "cell_type": "code",
   "execution_count": 7,
   "id": "4a51cd8a",
   "metadata": {},
   "outputs": [
    {
     "data": {
      "text/plain": [
       "6.800000000000001"
      ]
     },
     "execution_count": 7,
     "metadata": {},
     "output_type": "execute_result"
    }
   ],
   "source": [
    "tlca.static_lcia()\n",
    "tlca.static_score"
   ]
  },
  {
   "cell_type": "code",
   "execution_count": 8,
   "id": "e45118f5",
   "metadata": {},
   "outputs": [
    {
     "data": {
      "text/html": [
       "<div>\n",
       "<style scoped>\n",
       "    .dataframe tbody tr th:only-of-type {\n",
       "        vertical-align: middle;\n",
       "    }\n",
       "\n",
       "    .dataframe tbody tr th {\n",
       "        vertical-align: top;\n",
       "    }\n",
       "\n",
       "    .dataframe thead th {\n",
       "        text-align: right;\n",
       "    }\n",
       "</style>\n",
       "<table border=\"1\" class=\"dataframe\">\n",
       "  <thead>\n",
       "    <tr style=\"text-align: right;\">\n",
       "      <th></th>\n",
       "      <th>((background_t0, B), 2024)</th>\n",
       "      <th>((background_t1, B), 2025)</th>\n",
       "      <th>((foreground, A), dynamic)</th>\n",
       "      <th>((foreground, A), 2024)</th>\n",
       "      <th>((temporal market, B), 2025)</th>\n",
       "    </tr>\n",
       "  </thead>\n",
       "  <tbody>\n",
       "    <tr>\n",
       "      <th>((background_t0, B), 2024)</th>\n",
       "      <td>1.0</td>\n",
       "      <td>0.0</td>\n",
       "      <td>-2.0</td>\n",
       "      <td>-0.4</td>\n",
       "      <td>0.0</td>\n",
       "    </tr>\n",
       "    <tr>\n",
       "      <th>((background_t1, B), 2025)</th>\n",
       "      <td>0.0</td>\n",
       "      <td>1.0</td>\n",
       "      <td>0.0</td>\n",
       "      <td>0.0</td>\n",
       "      <td>-1.0</td>\n",
       "    </tr>\n",
       "    <tr>\n",
       "      <th>((foreground, A), dynamic)</th>\n",
       "      <td>0.0</td>\n",
       "      <td>0.0</td>\n",
       "      <td>1.0</td>\n",
       "      <td>0.0</td>\n",
       "      <td>0.0</td>\n",
       "    </tr>\n",
       "    <tr>\n",
       "      <th>((foreground, A), 2024)</th>\n",
       "      <td>0.0</td>\n",
       "      <td>0.0</td>\n",
       "      <td>0.0</td>\n",
       "      <td>1.0</td>\n",
       "      <td>0.0</td>\n",
       "    </tr>\n",
       "    <tr>\n",
       "      <th>((temporal market, B), 2025)</th>\n",
       "      <td>0.0</td>\n",
       "      <td>0.0</td>\n",
       "      <td>0.0</td>\n",
       "      <td>-1.6</td>\n",
       "      <td>1.0</td>\n",
       "    </tr>\n",
       "  </tbody>\n",
       "</table>\n",
       "</div>"
      ],
      "text/plain": [
       "                              ((background_t0, B), 2024)  \\\n",
       "((background_t0, B), 2024)                           1.0   \n",
       "((background_t1, B), 2025)                           0.0   \n",
       "((foreground, A), dynamic)                           0.0   \n",
       "((foreground, A), 2024)                              0.0   \n",
       "((temporal market, B), 2025)                         0.0   \n",
       "\n",
       "                              ((background_t1, B), 2025)  \\\n",
       "((background_t0, B), 2024)                           0.0   \n",
       "((background_t1, B), 2025)                           1.0   \n",
       "((foreground, A), dynamic)                           0.0   \n",
       "((foreground, A), 2024)                              0.0   \n",
       "((temporal market, B), 2025)                         0.0   \n",
       "\n",
       "                              ((foreground, A), dynamic)  \\\n",
       "((background_t0, B), 2024)                          -2.0   \n",
       "((background_t1, B), 2025)                           0.0   \n",
       "((foreground, A), dynamic)                           1.0   \n",
       "((foreground, A), 2024)                              0.0   \n",
       "((temporal market, B), 2025)                         0.0   \n",
       "\n",
       "                              ((foreground, A), 2024)  \\\n",
       "((background_t0, B), 2024)                       -0.4   \n",
       "((background_t1, B), 2025)                        0.0   \n",
       "((foreground, A), dynamic)                        0.0   \n",
       "((foreground, A), 2024)                           1.0   \n",
       "((temporal market, B), 2025)                     -1.6   \n",
       "\n",
       "                              ((temporal market, B), 2025)  \n",
       "((background_t0, B), 2024)                             0.0  \n",
       "((background_t1, B), 2025)                            -1.0  \n",
       "((foreground, A), dynamic)                             0.0  \n",
       "((foreground, A), 2024)                                0.0  \n",
       "((temporal market, B), 2025)                           1.0  "
      ]
     },
     "execution_count": 8,
     "metadata": {},
     "output_type": "execute_result"
    }
   ],
   "source": [
    "tlca.create_labelled_technosphere_dataframe()"
   ]
  },
  {
   "cell_type": "code",
   "execution_count": 10,
   "id": "99b23e55",
   "metadata": {},
   "outputs": [
    {
     "data": {
      "text/html": [
       "<div>\n",
       "<style scoped>\n",
       "    .dataframe tbody tr th:only-of-type {\n",
       "        vertical-align: middle;\n",
       "    }\n",
       "\n",
       "    .dataframe tbody tr th {\n",
       "        vertical-align: top;\n",
       "    }\n",
       "\n",
       "    .dataframe thead th {\n",
       "        text-align: right;\n",
       "    }\n",
       "</style>\n",
       "<table border=\"1\" class=\"dataframe\">\n",
       "  <thead>\n",
       "    <tr style=\"text-align: right;\">\n",
       "      <th></th>\n",
       "      <th>((background_t0, B), 2024)</th>\n",
       "      <th>((background_t1, B), 2025)</th>\n",
       "      <th>((foreground, A), dynamic)</th>\n",
       "      <th>((foreground, A), 2024)</th>\n",
       "      <th>((temporal market, B), 2025)</th>\n",
       "    </tr>\n",
       "  </thead>\n",
       "  <tbody>\n",
       "    <tr>\n",
       "      <th>(biosphere, X)</th>\n",
       "      <td>5.0</td>\n",
       "      <td>3.0</td>\n",
       "      <td>0.0</td>\n",
       "      <td>0.0</td>\n",
       "      <td>0.0</td>\n",
       "    </tr>\n",
       "  </tbody>\n",
       "</table>\n",
       "</div>"
      ],
      "text/plain": [
       "                ((background_t0, B), 2024)  ((background_t1, B), 2025)  \\\n",
       "(biosphere, X)                         5.0                         3.0   \n",
       "\n",
       "                ((foreground, A), dynamic)  ((foreground, A), 2024)  \\\n",
       "(biosphere, X)                         0.0                      0.0   \n",
       "\n",
       "                ((temporal market, B), 2025)  \n",
       "(biosphere, X)                           0.0  "
      ]
     },
     "execution_count": 10,
     "metadata": {},
     "output_type": "execute_result"
    }
   ],
   "source": [
    "tlca.create_labelled_biosphere_dataframe()"
   ]
  },
  {
   "cell_type": "code",
   "execution_count": 17,
   "id": "e27254c5",
   "metadata": {},
   "outputs": [
    {
     "data": {
      "text/html": [
       "<div>\n",
       "<style scoped>\n",
       "    .dataframe tbody tr th:only-of-type {\n",
       "        vertical-align: middle;\n",
       "    }\n",
       "\n",
       "    .dataframe tbody tr th {\n",
       "        vertical-align: top;\n",
       "    }\n",
       "\n",
       "    .dataframe thead th {\n",
       "        text-align: right;\n",
       "    }\n",
       "</style>\n",
       "<table border=\"1\" class=\"dataframe\">\n",
       "  <thead>\n",
       "    <tr style=\"text-align: right;\">\n",
       "      <th></th>\n",
       "      <th>date</th>\n",
       "      <th>amount</th>\n",
       "      <th>flow</th>\n",
       "      <th>activity</th>\n",
       "    </tr>\n",
       "  </thead>\n",
       "  <tbody>\n",
       "    <tr>\n",
       "      <th>0</th>\n",
       "      <td>2024-01-01</td>\n",
       "      <td>2.72</td>\n",
       "      <td>1</td>\n",
       "      <td>2</td>\n",
       "    </tr>\n",
       "    <tr>\n",
       "      <th>1</th>\n",
       "      <td>2025-01-01</td>\n",
       "      <td>4.80</td>\n",
       "      <td>1</td>\n",
       "      <td>2</td>\n",
       "    </tr>\n",
       "  </tbody>\n",
       "</table>\n",
       "</div>"
      ],
      "text/plain": [
       "        date  amount  flow  activity\n",
       "0 2024-01-01    2.72     1         2\n",
       "1 2025-01-01    4.80     1         2"
      ]
     },
     "execution_count": 17,
     "metadata": {},
     "output_type": "execute_result"
    }
   ],
   "source": [
    "tlca.dynamic_inventory_df"
   ]
  },
  {
   "cell_type": "code",
   "execution_count": 15,
   "id": "2e9c9260",
   "metadata": {},
   "outputs": [
    {
     "data": {
      "image/png": "[encoded data removed]",
      "text/plain": [
       "<Figure size 1400x600 with 1 Axes>"
      ]
     },
     "metadata": {},
     "output_type": "display_data"
    }
   ],
   "source": [
    "tlca.plot_dynamic_inventory([1])"
   ]
  },
  {
   "cell_type": "code",
   "execution_count": null,
   "id": "9f4ce74c",
   "metadata": {},
   "outputs": [],
   "source": []
  }
 ],
 "metadata": {
  "kernelspec": {
   "display_name": "Python 3 (ipykernel)",
   "language": "python",
   "name": "python3"
  },
  "language_info": {
   "codemirror_mode": {
    "name": "ipython",
    "version": 3
   },
   "file_extension": ".py",
   "mimetype": "text/x-python",
   "name": "python",
   "nbconvert_exporter": "python",
   "pygments_lexer": "ipython3",
   "version": "3.11.9"
  }
 },
 "nbformat": 4,
 "nbformat_minor": 5
}
